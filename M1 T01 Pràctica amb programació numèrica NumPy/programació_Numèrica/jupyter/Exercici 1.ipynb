{
 "cells": [
  {
   "cell_type": "markdown",
   "id": "60f809a9",
   "metadata": {},
   "source": [
    "# Exercici 1\n",
    "Crea una funció que donat un Array d’una dimensió, et faci un resum estadístic bàsic de les dades. Si detecta que l’array té més d’una dimensió, ha de mostrar un missatge d’error."
   ]
  },
  {
   "cell_type": "code",
   "execution_count": 4,
   "id": "c9e5d8a6",
   "metadata": {},
   "outputs": [
    {
     "name": "stdout",
     "output_type": "stream",
     "text": [
      "Cuantas dimensiones quieres crear en el array?1\n",
      "Tiene 1 dimension\n",
      "[ 1  2  3  4  5  6  7  8  9 10]\n"
     ]
    }
   ],
   "source": [
    "import numpy as np\n",
    "\n",
    "user = int(input(\"Cuantas dimensiones quieres crear en el array?\"))\n",
    "\n",
    "value = np.array([1,2,3,4,5,6,7,8,9,10], ndmin = user)\n",
    "if user > 1:\n",
    "    print(\"Error es un Array de mas de 1 dimension\")\n",
    "    print(\"Tiene {} dimensiones\".format(value.ndim))\n",
    "    print(value)\n",
    "else: \n",
    "    print(\"Tiene {} dimension\".format(value.ndim))\n",
    "    print(value)"
   ]
  },
  {
   "cell_type": "code",
   "execution_count": null,
   "id": "84293d64",
   "metadata": {},
   "outputs": [],
   "source": []
  }
 ],
 "metadata": {
  "kernelspec": {
   "display_name": "Python 3",
   "language": "python",
   "name": "python3"
  },
  "language_info": {
   "codemirror_mode": {
    "name": "ipython",
    "version": 3
   },
   "file_extension": ".py",
   "mimetype": "text/x-python",
   "name": "python",
   "nbconvert_exporter": "python",
   "pygments_lexer": "ipython3",
   "version": "3.8.8"
  }
 },
 "nbformat": 4,
 "nbformat_minor": 5
}
