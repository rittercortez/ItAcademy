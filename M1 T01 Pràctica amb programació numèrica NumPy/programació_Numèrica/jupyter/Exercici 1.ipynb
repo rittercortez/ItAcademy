{
 "cells": [
  {
   "cell_type": "markdown",
   "id": "60f809a9",
   "metadata": {},
   "source": [
    "# Exercici 1\n",
    "Crea una funció que donat un Array d’una dimensió, et faci un resum estadístic bàsic de les dades. Si detecta que l’array té més d’una dimensió, ha de mostrar un missatge d’error."
   ]
  },
  {
   "cell_type": "code",
   "execution_count": 12,
   "id": "c9e5d8a6",
   "metadata": {},
   "outputs": [
    {
     "name": "stdout",
     "output_type": "stream",
     "text": [
      "Cuantas dimensiones quieres crear en el array? 4\n",
      "Error es un Array de mas de 1 dimension\n",
      "Tiene 4 dimensiones\n",
      "[[[[ 1 21  3 43  5 26 74 80 91 10]]]]\n",
      "\n",
      "La Media de nuestra matriz es: 35.4\n",
      "La Mediana de nuestra matriz es: 23.5\n",
      "El Percentil de 15 nuestra matriz es: 3.6999999999999997\n",
      "La Desviación Estandar de nuestra matriz es: 32.751183184733954\n",
      "La Varianza de nuestra matriz es: 1072.6399999999999\n"
     ]
    }
   ],
   "source": [
    "import numpy as np\n",
    "\n",
    "user = int(input(\"Cuantas dimensiones quieres crear en el array? \"))\n",
    "\n",
    "value = np.array([1,21,3,43,5,26,74,80,91,10], ndmin = user)\n",
    "\n",
    "media = np.mean(value)\n",
    "mediana = np.median(value)\n",
    "percentil = np.percentile(value, 15)\n",
    "desv_estandar = np.std(value)\n",
    "varianza = np.var(value)\n",
    "if user > 1:\n",
    "    print(\"Error es un Array de mas de 1 dimension\")\n",
    "    print(\"Tiene {} dimensiones\".format(value.ndim))\n",
    "    print(value)\n",
    "else: \n",
    "    print(\"Tiene {} dimension\".format(value.ndim))\n",
    "    print(value)\n",
    "\n",
    "# resum estadístic bàsic de les dades.\n",
    "print(\"\")\n",
    "print(\"La Media de nuestra matriz es: {}\".format(media))\n",
    "print(\"La Mediana de nuestra matriz es: {}\".format(mediana))\n",
    "print(\"El Percentil de 15 nuestra matriz es: {}\".format(percentil))\n",
    "print(\"La Desviación Estandar de nuestra matriz es: {}\".format(desv_estandar))\n",
    "print(\"La Varianza de nuestra matriz es: {}\".format(varianza))"
   ]
  },
  {
   "cell_type": "code",
   "execution_count": null,
   "id": "72e02d37",
   "metadata": {},
   "outputs": [],
   "source": []
  },
  {
   "cell_type": "code",
   "execution_count": null,
   "id": "7490a284",
   "metadata": {},
   "outputs": [],
   "source": []
  }
 ],
 "metadata": {
  "kernelspec": {
   "display_name": "Python 3",
   "language": "python",
   "name": "python3"
  },
  "language_info": {
   "codemirror_mode": {
    "name": "ipython",
    "version": 3
   },
   "file_extension": ".py",
   "mimetype": "text/x-python",
   "name": "python",
   "nbconvert_exporter": "python",
   "pygments_lexer": "ipython3",
   "version": "3.8.8"
  }
 },
 "nbformat": 4,
 "nbformat_minor": 5
}
