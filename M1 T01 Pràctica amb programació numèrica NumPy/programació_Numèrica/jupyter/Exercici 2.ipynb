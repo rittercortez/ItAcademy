{
 "cells": [
  {
   "cell_type": "markdown",
   "id": "227bab0d",
   "metadata": {},
   "source": [
    "# Exercici 2\n",
    "\n",
    "Crea una funció que et generi un quadrat NxN de nombres aleatoris entre el 0 i el 100."
   ]
  },
  {
   "cell_type": "code",
   "execution_count": 21,
   "id": "8188423e",
   "metadata": {},
   "outputs": [
    {
     "name": "stdout",
     "output_type": "stream",
     "text": [
      "[[55 94  6 54  2 95 94 12 49 88]\n",
      " [30 79 27 42 71 18 37 53 17  2]\n",
      " [75 14 31 40 57 77 27 99 97 50]\n",
      " [ 2 85 21 51 21 32 60  2 19 67]\n",
      " [14 85 44 75 70 59 55 44 78 82]\n",
      " [10 50  3 18 38 75  7  2  8 61]\n",
      " [33 80 13 29 80 61 29 28 42 36]\n",
      " [10 13 47 37 61 78 64 19 91 27]\n",
      " [99 85 17 23 11 14 27 81 83 77]\n",
      " [25 41 18 89 12 43 16  0 98 51]]\n"
     ]
    }
   ],
   "source": [
    "import numpy as np\n",
    "import random\n",
    "num = np.random.randint(0, 100, (10, 10))\n",
    "\n",
    "print(num)"
   ]
  }
 ],
 "metadata": {
  "kernelspec": {
   "display_name": "Python 3",
   "language": "python",
   "name": "python3"
  },
  "language_info": {
   "codemirror_mode": {
    "name": "ipython",
    "version": 3
   },
   "file_extension": ".py",
   "mimetype": "text/x-python",
   "name": "python",
   "nbconvert_exporter": "python",
   "pygments_lexer": "ipython3",
   "version": "3.8.8"
  }
 },
 "nbformat": 4,
 "nbformat_minor": 5
}
