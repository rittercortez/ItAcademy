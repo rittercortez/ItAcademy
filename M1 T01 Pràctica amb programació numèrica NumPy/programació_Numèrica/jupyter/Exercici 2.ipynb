{
 "cells": [
  {
   "cell_type": "markdown",
   "id": "227bab0d",
   "metadata": {},
   "source": [
    "# Exercici 2\n",
    "\n",
    "Crea una funció que et generi un quadrat NxN de nombres aleatoris entre el 0 i el 100."
   ]
  },
  {
   "cell_type": "code",
   "execution_count": 2,
   "id": "8188423e",
   "metadata": {},
   "outputs": [
    {
     "name": "stdout",
     "output_type": "stream",
     "text": [
      "Hey Hola  dime un numero para crearte una dimensión NxN: 3\n",
      "[[55  7 31]\n",
      " [81 32 89]\n",
      " [ 4 80 75]]\n"
     ]
    }
   ],
   "source": [
    "import numpy as np\n",
    "import random\n",
    "\n",
    "user = int(input(\"Hey Hola, dime un numero para crearte una dimensión NxN: \"))\n",
    "num = np.random.randint(0, 100,(user, user))\n",
    "\n",
    "print(num)"
   ]
  },
  {
   "cell_type": "code",
   "execution_count": null,
   "id": "b3ec59fc",
   "metadata": {},
   "outputs": [],
   "source": []
  },
  {
   "cell_type": "code",
   "execution_count": null,
   "id": "0c58a9c8",
   "metadata": {},
   "outputs": [],
   "source": []
  }
 ],
 "metadata": {
  "kernelspec": {
   "display_name": "Python 3",
   "language": "python",
   "name": "python3"
  },
  "language_info": {
   "codemirror_mode": {
    "name": "ipython",
    "version": 3
   },
   "file_extension": ".py",
   "mimetype": "text/x-python",
   "name": "python",
   "nbconvert_exporter": "python",
   "pygments_lexer": "ipython3",
   "version": "3.8.8"
  }
 },
 "nbformat": 4,
 "nbformat_minor": 5
}
