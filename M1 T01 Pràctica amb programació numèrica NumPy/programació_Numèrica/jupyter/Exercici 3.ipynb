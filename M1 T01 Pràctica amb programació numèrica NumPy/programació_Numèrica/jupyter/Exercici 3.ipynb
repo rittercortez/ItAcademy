{
 "cells": [
  {
   "cell_type": "markdown",
   "id": "ddc1b569",
   "metadata": {},
   "source": [
    "# Exercici 3\n",
    "\n",
    "Crea una funció que donada una taula de dues dimensions, et calculi els totals per fila i els totals per columna.  "
   ]
  },
  {
   "cell_type": "code",
   "execution_count": 5,
   "id": "8551f03b",
   "metadata": {},
   "outputs": [
    {
     "name": "stdout",
     "output_type": "stream",
     "text": [
      "[67  5  7 13]\n"
     ]
    }
   ],
   "source": [
    "import numpy as np\n",
    "\n",
    "num = np.array([[12,3,1,4],[55,2,6,9]])\n",
    "suma = np.sum(num, axis = 0)\n",
    "print(suma)"
   ]
  },
  {
   "cell_type": "code",
   "execution_count": null,
   "id": "d5831e3c",
   "metadata": {},
   "outputs": [],
   "source": []
  }
 ],
 "metadata": {
  "kernelspec": {
   "display_name": "Python 3",
   "language": "python",
   "name": "python3"
  },
  "language_info": {
   "codemirror_mode": {
    "name": "ipython",
    "version": 3
   },
   "file_extension": ".py",
   "mimetype": "text/x-python",
   "name": "python",
   "nbconvert_exporter": "python",
   "pygments_lexer": "ipython3",
   "version": "3.8.8"
  }
 },
 "nbformat": 4,
 "nbformat_minor": 5
}
