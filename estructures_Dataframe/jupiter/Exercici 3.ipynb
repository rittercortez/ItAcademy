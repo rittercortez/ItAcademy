{
 "cells": [
  {
   "cell_type": "code",
   "execution_count": null,
   "id": "620948a5",
   "metadata": {
    "pycharm": {
     "name": "#%%\n"
    }
   },
   "outputs": [],
   "source": [
    "# Exercici 3\n",
    "#Exporta el data set net i amb les noves columnes a Excel.\n",
    "\n",
    "# Importamos la librería pandas con el alias \"pd\"\n",
    "import pandas as pd\n",
    "\n",
    "\n",
    "# Llamamos a nuestro DataSet y lo guardamos en la variable \"df\"\n",
    "df = pd.read_csv(\"DelayedFlights.csv\")\n",
    "# limpiamos los datos vacios rellenando con 0\n",
    "df = df.fillna(0)\n",
    "# Filtramos nuestra variable \"df\" para que no permita solo visualizar las columnas que queremos\n",
    "filtrado = df[[\"Year\",\"Month\",\"DayofMonth\",\"DayOfWeek\",\"Origin\",\"Dest\",\"Diverted\",\"Cancelled\",\"CancellationCode\",\"WeatherDelay\",\"LateAircraftDelay\"]]\n",
    "filtrado\n",
    "\n",
    "# Resumeix estadísticament les columnes d’interès\n",
    "filtrado = df[[\"Year\",\"Month\",\"DayofMonth\",\"DayOfWeek\",\"Origin\",\"Dest\",\"Diverted\",\"Cancelled\",\n",
    "               \"CancellationCode\",\"WeatherDelay\",\"LateAircraftDelay\"]]\n",
    "\n",
    "df.isna().sum()\n",
    "\n",
    "def velocidad_media(velocidad):\n",
    "    resultado = velocidad[\"CRSElapsedTime\"]-velocidad[\"ActualElapsedTime\"]/velocidad[\"Distance\"]\n",
    "    return resultado\n",
    "\n",
    "df[\"Velocidad Media\"] = df.apply(velocidad_media, axis = 1)\n",
    "df[\"Velocidad Media\"]\n",
    "\n",
    "def retraso(delay):\n",
    "    if delay[\"ArrDelay\"] > 0:\n",
    "        x = \"True\"\n",
    "        return x\n",
    "    else:\n",
    "        y = \"False\"\n",
    "        return y\n",
    "\n",
    "df[\"Retraso (True / False)\"] = df.apply(retraso, axis = 1)\n",
    "df[\"Retraso (True / False)\"]\n",
    "\n",
    "df.groupby(\"UniqueCarrier\").agg({\n",
    "    \"ArrDelay\" : \"sum\"\n",
    "})\n",
    "\n",
    "largos = df[[\"Origin\", \"Dest\", \"Distance\"]]\n",
    "largos.sort_values(\"Distance\", ascending = False)\n",
    "\n",
    "# Los Vuelos  con mas retraso\n",
    "retraso = df[[\"Origin\", \"Dest\", \"ArrDelay\"]]\n",
    "retraso.sort_values(\"ArrDelay\", ascending = False)\n",
    "\n",
    "\n",
    "\"\"\"\n",
    "Guardar el archivo en excel es imposible por tema de que sobrepasa el tamaño limite.\n",
    "- estuve todo un dia comiendome la cabeza intentando guardar el archivo de todas las maneras posible caer en la solucion\n",
    "https://support.microsoft.com/en-us/office/excel-specifications-and-limits-1672b34d-7043-467e-8e27-269d656771c3?ui=en-us&rs=en-us&ad=us\n",
    "\"\"\""
   ]
  },
  {
   "cell_type": "code",
   "execution_count": null,
   "id": "f4615e4e",
   "metadata": {},
   "outputs": [],
   "source": []
  }
 ],
 "metadata": {
  "interpreter": {
   "hash": "aebc9d81ff3c3ce44fcc60c0ba8341becd9814fd8fff511a3cc7c35d867bb144"
  },
  "kernelspec": {
   "display_name": "Python 3",
   "language": "python",
   "name": "python3"
  },
  "language_info": {
   "codemirror_mode": {
    "name": "ipython",
    "version": 3
   },
   "file_extension": ".py",
   "mimetype": "text/x-python",
   "name": "python",
   "nbconvert_exporter": "python",
   "pygments_lexer": "ipython3",
   "version": "3.8.8"
  }
 },
 "nbformat": 4,
 "nbformat_minor": 5
}
